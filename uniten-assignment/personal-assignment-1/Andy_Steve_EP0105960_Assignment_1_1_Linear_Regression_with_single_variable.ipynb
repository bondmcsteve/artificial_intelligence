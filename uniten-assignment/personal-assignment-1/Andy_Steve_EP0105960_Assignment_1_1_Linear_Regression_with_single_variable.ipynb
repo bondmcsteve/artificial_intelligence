{
  "nbformat": 4,
  "nbformat_minor": 0,
  "metadata": {
    "colab": {
      "provenance": []
    },
    "kernelspec": {
      "name": "python3",
      "display_name": "Python 3"
    },
    "language_info": {
      "name": "python"
    }
  },
  "cells": [
    {
      "cell_type": "markdown",
      "source": [
        "##Example code for linear regression"
      ],
      "metadata": {
        "id": "3azgdZhNpj2L"
      }
    },
    {
      "cell_type": "markdown",
      "source": [
        "Import libraries used for plotting and calculating"
      ],
      "metadata": {
        "id": "MbfukzKzpuD2"
      }
    },
    {
      "cell_type": "code",
      "execution_count": null,
      "metadata": {
        "id": "rPFTcurRJhsc"
      },
      "outputs": [],
      "source": [
        "%matplotlib inline\n",
        "import matplotlib.pyplot as plt\n",
        "import numpy as np\n",
        "from sklearn.linear_model import LinearRegression"
      ]
    },
    {
      "cell_type": "markdown",
      "source": [
        "Generate some random points that have some positive trend. Alternatively, you can also generate your own data points. "
      ],
      "metadata": {
        "id": "dqa_vXHLp2Mt"
      }
    },
    {
      "cell_type": "code",
      "source": [
        "rng = np.random.RandomState(1)\n",
        "x = 10 * rng.rand(50)\n",
        "y = 2 * x - 5 + rng.randn(50)\n",
        "plt.scatter(x, y);"
      ],
      "metadata": {
        "id": "VfWn4yApJjwz",
        "colab": {
          "base_uri": "https://localhost:8080/",
          "height": 265
        },
        "outputId": "9a5eaa24-6f69-4f82-cacc-eee0408fa0a9"
      },
      "execution_count": null,
      "outputs": [
        {
          "output_type": "display_data",
          "data": {
            "text/plain": [
              "<Figure size 432x288 with 1 Axes>"
            ],
            "image/png": "[encoded data removed]"
          },
          "metadata": {
            "needs_background": "light"
          }
        }
      ]
    },
    {
      "cell_type": "markdown",
      "source": [
        "Prepare the linear regression model, and start training."
      ],
      "metadata": {
        "id": "8NamdW090_d3"
      }
    },
    {
      "cell_type": "code",
      "source": [
        "# load a linear regression model\n",
        "model = LinearRegression()\n",
        "\n",
        "# train the model\n",
        "model.fit(x[:, np.newaxis], y)\n",
        "# model.fit(x, y)\n",
        "\n",
        "# plot the linear regression line\n",
        "xfit = np.linspace(0, 10, 1000)\n",
        "yfit = model.predict(xfit[:, np.newaxis])\n",
        "\n",
        "plt.scatter(x, y, marker='+')\n",
        "plt.plot(xfit, yfit, color='red');"
      ],
      "metadata": {
        "id": "WttQHrwNJtK-",
        "colab": {
          "base_uri": "https://localhost:8080/",
          "height": 265
        },
        "outputId": "07eb7405-2e2a-4b72-adad-5189bbfee763"
      },
      "execution_count": null,
      "outputs": [
        {
          "output_type": "display_data",
          "data": {
            "text/plain": [
              "<Figure size 432x288 with 1 Axes>"
            ],
            "image/png": "[encoded data removed]"
          },
          "metadata": {
            "needs_background": "light"
          }
        }
      ]
    },
    {
      "cell_type": "code",
      "source": [
        "print(\"Model slope:    \", model.coef_[0])\n",
        "print(\"Model intercept:\", model.intercept_)"
      ],
      "metadata": {
        "id": "DJEfzbfxJvQj",
        "colab": {
          "base_uri": "https://localhost:8080/"
        },
        "outputId": "e130fdd2-2b89-4d14-d1f4-a49241a3311e"
      },
      "execution_count": null,
      "outputs": [
        {
          "output_type": "stream",
          "name": "stdout",
          "text": [
            "Model slope:     2.0272088103606953\n",
            "Model intercept: -4.998577085553204\n"
          ]
        }
      ]
    },
    {
      "cell_type": "code",
      "source": [
        "model.coef_"
      ],
      "metadata": {
        "id": "RXKCoqO47678",
        "colab": {
          "base_uri": "https://localhost:8080/"
        },
        "outputId": "2aadd849-c724-43a1-c079-d471d3e7f9af"
      },
      "execution_count": null,
      "outputs": [
        {
          "output_type": "execute_result",
          "data": {
            "text/plain": [
              "array([2.02720881])"
            ]
          },
          "metadata": {},
          "execution_count": 14
        }
      ]
    },
    {
      "cell_type": "code",
      "source": [
        "# test prediction of an unknown point\n",
        "model.predict([[0.5]])"
      ],
      "metadata": {
        "id": "sUQkR8kmylUF",
        "colab": {
          "base_uri": "https://localhost:8080/"
        },
        "outputId": "5976dd80-beac-42c4-8e13-ea5517c9658b"
      },
      "execution_count": null,
      "outputs": [
        {
          "output_type": "execute_result",
          "data": {
            "text/plain": [
              "array([-3.98497268])"
            ]
          },
          "metadata": {},
          "execution_count": 15
        }
      ]
    },
    {
      "cell_type": "code",
      "source": [
        " y = model.coef_[0] * 0.5 + model.intercept_\n",
        " y"
      ],
      "metadata": {
        "id": "P-1q-yFe8f22",
        "colab": {
          "base_uri": "https://localhost:8080/"
        },
        "outputId": "0bbd0359-1dbb-44b2-8015-15a91c47c6aa"
      },
      "execution_count": null,
      "outputs": [
        {
          "output_type": "execute_result",
          "data": {
            "text/plain": [
              "-3.984972680372856"
            ]
          },
          "metadata": {},
          "execution_count": 16
        }
      ]
    },
    {
      "cell_type": "markdown",
      "source": [
        "##Assignment 1, Part 1: Linear Regression with a Single Variable\n",
        "Using the Malaysian per capita income historical data, estimate the per capita income for 2022 and 2032"
      ],
      "metadata": {
        "id": "fvNZGMN8pLsa"
      }
    },
    {
      "cell_type": "code",
      "source": [
        "%matplotlib inline\n",
        "import matplotlib.pyplot as plt\n",
        "import numpy as np\n",
        "import pandas as pd\n",
        "from sklearn.linear_model import LinearRegression"
      ],
      "metadata": {
        "id": "yTkspEtWqPIa"
      },
      "execution_count": null,
      "outputs": []
    },
    {
      "cell_type": "markdown",
      "source": [
        "Download the Malaysian income per capita historical data into the colab workspace."
      ],
      "metadata": {
        "id": "kdL7NUtP5uJJ"
      }
    },
    {
      "cell_type": "code",
      "source": [
        "!wget https://raw.githubusercontent.com/mdzafri/uniten-ai/main/2022-1/MalaysianIncomeRM.csv"
      ],
      "metadata": {
        "id": "Gkn4QBQ34QK7",
        "colab": {
          "base_uri": "https://localhost:8080/"
        },
        "outputId": "9c3f1b11-ef23-4ce4-d4dd-c83baa2cf624"
      },
      "execution_count": null,
      "outputs": [
        {
          "output_type": "stream",
          "name": "stdout",
          "text": [
            "--2022-09-25 13:28:12--  https://raw.githubusercontent.com/mdzafri/uniten-ai/main/2022-1/MalaysianIncomeRM.csv\n",
            "Resolving raw.githubusercontent.com (raw.githubusercontent.com)... 185.199.108.133, 185.199.109.133, 185.199.110.133, ...\n",
            "Connecting to raw.githubusercontent.com (raw.githubusercontent.com)|185.199.108.133|:443... connected.\n",
            "HTTP request sent, awaiting response... 200 OK\n",
            "Length: 924 [text/plain]\n",
            "Saving to: ‘MalaysianIncomeRM.csv.1’\n",
            "\n",
            "MalaysianIncomeRM.c 100%[===================>]     924  --.-KB/s    in 0s      \n",
            "\n",
            "2022-09-25 13:28:13 (28.4 MB/s) - ‘MalaysianIncomeRM.csv.1’ saved [924/924]\n",
            "\n"
          ]
        }
      ]
    },
    {
      "cell_type": "code",
      "source": [
        "# read CSV file and store values into dataframe using pandas\n",
        "df = pd.read_csv(\"MalaysianIncomeRM.csv\") \n",
        "df.head(5)  # display only top 5 values\n",
        "# df          # display all values"
      ],
      "metadata": {
        "id": "BNUZx6TgqfxK",
        "colab": {
          "base_uri": "https://localhost:8080/",
          "height": 206
        },
        "outputId": "d4ed797f-faa9-4641-d8dc-748d0302e19f"
      },
      "execution_count": null,
      "outputs": [
        {
          "output_type": "execute_result",
          "data": {
            "text/plain": [
              "   year       income\n",
              "0  1970  1127.485403\n",
              "1  1971  1161.362861\n",
              "2  1972  1199.281861\n",
              "3  1973  1611.712537\n",
              "4  1974  2293.384388"
            ],
            "text/html": [
              "\n",
              "  <div id=\"df-8cff3771-2c9d-4806-af45-8db99b5d8cd3\">\n",
              "    <div class=\"colab-df-container\">\n",
              "      <div>\n",
              "<style scoped>\n",
              "    .dataframe tbody tr th:only-of-type {\n",
              "        vertical-align: middle;\n",
              "    }\n",
              "\n",
              "    .dataframe tbody tr th {\n",
              "        vertical-align: top;\n",
              "    }\n",
              "\n",
              "    .dataframe thead th {\n",
              "        text-align: right;\n",
              "    }\n",
              "</style>\n",
              "<table border=\"1\" class=\"dataframe\">\n",
              "  <thead>\n",
              "    <tr style=\"text-align: right;\">\n",
              "      <th></th>\n",
              "      <th>year</th>\n",
              "      <th>income</th>\n",
              "    </tr>\n",
              "  </thead>\n",
              "  <tbody>\n",
              "    <tr>\n",
              "      <th>0</th>\n",
              "      <td>1970</td>\n",
              "      <td>1127.485403</td>\n",
              "    </tr>\n",
              "    <tr>\n",
              "      <th>1</th>\n",
              "      <td>1971</td>\n",
              "      <td>1161.362861</td>\n",
              "    </tr>\n",
              "    <tr>\n",
              "      <th>2</th>\n",
              "      <td>1972</td>\n",
              "      <td>1199.281861</td>\n",
              "    </tr>\n",
              "    <tr>\n",
              "      <th>3</th>\n",
              "      <td>1973</td>\n",
              "      <td>1611.712537</td>\n",
              "    </tr>\n",
              "    <tr>\n",
              "      <th>4</th>\n",
              "      <td>1974</td>\n",
              "      <td>2293.384388</td>\n",
              "    </tr>\n",
              "  </tbody>\n",
              "</table>\n",
              "</div>\n",
              "      <button class=\"colab-df-convert\" onclick=\"convertToInteractive('df-8cff3771-2c9d-4806-af45-8db99b5d8cd3')\"\n",
              "              title=\"Convert this dataframe to an interactive table.\"\n",
              "              style=\"display:none;\">\n",
              "        \n",
              "  <svg xmlns=\"http://www.w3.org/2000/svg\" height=\"24px\"viewBox=\"0 0 24 24\"\n",
              "       width=\"24px\">\n",
              "    <path d=\"M0 0h24v24H0V0z\" fill=\"none\"/>\n",
              "    <path d=\"M18.56 5.44l.94 2.06.94-2.06 2.06-.94-2.06-.94-.94-2.06-.94 2.06-2.06.94zm-11 1L8.5 8.5l.94-2.06 2.06-.94-2.06-.94L8.5 2.5l-.94 2.06-2.06.94zm10 10l.94 2.06.94-2.06 2.06-.94-2.06-.94-.94-2.06-.94 2.06-2.06.94z\"/><path d=\"M17.41 7.96l-1.37-1.37c-.4-.4-.92-.59-1.43-.59-.52 0-1.04.2-1.43.59L10.3 9.45l-7.72 7.72c-.78.78-.78 2.05 0 2.83L4 21.41c.39.39.9.59 1.41.59.51 0 1.02-.2 1.41-.59l7.78-7.78 2.81-2.81c.8-.78.8-2.07 0-2.86zM5.41 20L4 18.59l7.72-7.72 1.47 1.35L5.41 20z\"/>\n",
              "  </svg>\n",
              "      </button>\n",
              "      \n",
              "  <style>\n",
              "    .colab-df-container {\n",
              "      display:flex;\n",
              "      flex-wrap:wrap;\n",
              "      gap: 12px;\n",
              "    }\n",
              "\n",
              "    .colab-df-convert {\n",
              "      background-color: #E8F0FE;\n",
              "      border: none;\n",
              "      border-radius: 50%;\n",
              "      cursor: pointer;\n",
              "      display: none;\n",
              "      fill: #1967D2;\n",
              "      height: 32px;\n",
              "      padding: 0 0 0 0;\n",
              "      width: 32px;\n",
              "    }\n",
              "\n",
              "    .colab-df-convert:hover {\n",
              "      background-color: #E2EBFA;\n",
              "      box-shadow: 0px 1px 2px rgba(60, 64, 67, 0.3), 0px 1px 3px 1px rgba(60, 64, 67, 0.15);\n",
              "      fill: #174EA6;\n",
              "    }\n",
              "\n",
              "    [theme=dark] .colab-df-convert {\n",
              "      background-color: #3B4455;\n",
              "      fill: #D2E3FC;\n",
              "    }\n",
              "\n",
              "    [theme=dark] .colab-df-convert:hover {\n",
              "      background-color: #434B5C;\n",
              "      box-shadow: 0px 1px 3px 1px rgba(0, 0, 0, 0.15);\n",
              "      filter: drop-shadow(0px 1px 2px rgba(0, 0, 0, 0.3));\n",
              "      fill: #FFFFFF;\n",
              "    }\n",
              "  </style>\n",
              "\n",
              "      <script>\n",
              "        const buttonEl =\n",
              "          document.querySelector('#df-8cff3771-2c9d-4806-af45-8db99b5d8cd3 button.colab-df-convert');\n",
              "        buttonEl.style.display =\n",
              "          google.colab.kernel.accessAllowed ? 'block' : 'none';\n",
              "\n",
              "        async function convertToInteractive(key) {\n",
              "          const element = document.querySelector('#df-8cff3771-2c9d-4806-af45-8db99b5d8cd3');\n",
              "          const dataTable =\n",
              "            await google.colab.kernel.invokeFunction('convertToInteractive',\n",
              "                                                     [key], {});\n",
              "          if (!dataTable) return;\n",
              "\n",
              "          const docLinkHtml = 'Like what you see? Visit the ' +\n",
              "            '<a target=\"_blank\" href=https://colab.research.google.com/notebooks/data_table.ipynb>data table notebook</a>'\n",
              "            + ' to learn more about interactive tables.';\n",
              "          element.innerHTML = '';\n",
              "          dataTable['output_type'] = 'display_data';\n",
              "          await google.colab.output.renderOutput(dataTable, element);\n",
              "          const docLink = document.createElement('div');\n",
              "          docLink.innerHTML = docLinkHtml;\n",
              "          element.appendChild(docLink);\n",
              "        }\n",
              "      </script>\n",
              "    </div>\n",
              "  </div>\n",
              "  "
            ]
          },
          "metadata": {},
          "execution_count": 19
        }
      ]
    },
    {
      "cell_type": "code",
      "source": [
        "%matplotlib inline\n",
        "plt.xlabel('Year')\n",
        "plt.ylabel('Malaysian Income per Capita')\n",
        "plt.scatter(df.year, df.income, marker='+')"
      ],
      "metadata": {
        "id": "ohUAWp2xrnFc",
        "colab": {
          "base_uri": "https://localhost:8080/",
          "height": 296
        },
        "outputId": "2b204801-e750-4302-de1a-76182da95186"
      },
      "execution_count": null,
      "outputs": [
        {
          "output_type": "execute_result",
          "data": {
            "text/plain": [
              "<matplotlib.collections.PathCollection at 0x7f266ec62d50>"
            ]
          },
          "metadata": {},
          "execution_count": 20
        },
        {
          "output_type": "display_data",
          "data": {
            "text/plain": [
              "<Figure size 432x288 with 1 Axes>"
            ],
            "image/png": "[encoded data removed]"
          },
          "metadata": {
            "needs_background": "light"
          }
        }
      ]
    },
    {
      "cell_type": "code",
      "source": [
        "# load a linear regression model\n",
        "model = LinearRegression()\n",
        "\n",
        "# train the model\n",
        "model.fit(df[['year']], df.income)"
      ],
      "metadata": {
        "id": "eugSuZEfs6Or",
        "colab": {
          "base_uri": "https://localhost:8080/"
        },
        "outputId": "ecaaa51b-ed61-4b8f-d9d5-6656ca89eb14"
      },
      "execution_count": null,
      "outputs": [
        {
          "output_type": "execute_result",
          "data": {
            "text/plain": [
              "LinearRegression()"
            ]
          },
          "metadata": {},
          "execution_count": 21
        }
      ]
    },
    {
      "cell_type": "markdown",
      "source": [
        "Your tasks:\n",
        "1.  Display the linear regression line on the data scatter plot.\n",
        "2.  Display the slope and intercept of the regression line.\n",
        "3.  Predict the per capita income for the year 2022 and 2032."
      ],
      "metadata": {
        "id": "v_Bm0IhszRZS"
      }
    },
    {
      "cell_type": "markdown",
      "source": [
        "Linear Line Regression"
      ],
      "metadata": {
        "id": "SDPIwdJmFjVp"
      }
    },
    {
      "cell_type": "code",
      "source": [
        "# displaying Linear Regression line\n",
        "xfit = np.linspace(1970, 2020, 924)\n",
        "yfit = model.predict(xfit[:, np.newaxis])\n",
        "\n",
        "plt.scatter(df.year, df.income, marker='+')\n",
        "plt.plot(xfit, yfit, color='red');\n"
      ],
      "metadata": {
        "id": "eef9f8nBwRzB",
        "colab": {
          "base_uri": "https://localhost:8080/",
          "height": 300
        },
        "outputId": "3cd1016b-d34d-429c-f0ae-7facb709058f"
      },
      "execution_count": null,
      "outputs": [
        {
          "output_type": "stream",
          "name": "stderr",
          "text": [
            "/usr/local/lib/python3.7/dist-packages/sklearn/base.py:451: UserWarning: X does not have valid feature names, but LinearRegression was fitted with feature names\n",
            "  \"X does not have valid feature names, but\"\n"
          ]
        },
        {
          "output_type": "display_data",
          "data": {
            "text/plain": [
              "<Figure size 432x288 with 1 Axes>"
            ],
            "image/png": "[encoded data removed]"
          },
          "metadata": {
            "needs_background": "light"
          }
        }
      ]
    },
    {
      "cell_type": "markdown",
      "source": [
        "Display slope and intercept values of the Linear Regression Model above"
      ],
      "metadata": {
        "id": "gTuAahpiFiCU"
      }
    },
    {
      "cell_type": "code",
      "source": [
        "print(\"Model Slope    :\", model.coef_[0])\n",
        "print(\"Model Intercept:\", model.intercept_)"
      ],
      "metadata": {
        "id": "tHhgxO1EFghq",
        "colab": {
          "base_uri": "https://localhost:8080/"
        },
        "outputId": "f2562807-64cb-49f6-9a01-1a011597f37f"
      },
      "execution_count": null,
      "outputs": [
        {
          "output_type": "stream",
          "name": "stdout",
          "text": [
            "Model Slope    : 743.7826034637104\n",
            "Model Intercept: -1469837.0475671806\n"
          ]
        }
      ]
    },
    {
      "cell_type": "markdown",
      "source": [
        "Displaying array value of model.coef_"
      ],
      "metadata": {
        "id": "QKOos0wGzBmJ"
      }
    },
    {
      "cell_type": "code",
      "source": [
        "model.coef_"
      ],
      "metadata": {
        "colab": {
          "base_uri": "https://localhost:8080/"
        },
        "id": "mtT4Hx8ZzGMO",
        "outputId": "3ac5f445-8309-4709-ab6c-d6d432834891"
      },
      "execution_count": null,
      "outputs": [
        {
          "output_type": "execute_result",
          "data": {
            "text/plain": [
              "array([743.78260346])"
            ]
          },
          "metadata": {},
          "execution_count": 24
        }
      ]
    },
    {
      "cell_type": "markdown",
      "source": [
        "By using model.predict() function, we find the predicted income for year 2022"
      ],
      "metadata": {
        "id": "4PqBLDqlzMak"
      }
    },
    {
      "cell_type": "code",
      "source": [
        "model.predict([[2022]])"
      ],
      "metadata": {
        "colab": {
          "base_uri": "https://localhost:8080/"
        },
        "id": "UlHc1m-KzrEC",
        "outputId": "30d0f86a-c13a-4f1e-8ccd-4c0808fd52fe"
      },
      "execution_count": null,
      "outputs": [
        {
          "output_type": "stream",
          "name": "stderr",
          "text": [
            "/usr/local/lib/python3.7/dist-packages/sklearn/base.py:451: UserWarning: X does not have valid feature names, but LinearRegression was fitted with feature names\n",
            "  \"X does not have valid feature names, but\"\n"
          ]
        },
        {
          "output_type": "execute_result",
          "data": {
            "text/plain": [
              "array([34091.37663644])"
            ]
          },
          "metadata": {},
          "execution_count": 25
        }
      ]
    },
    {
      "cell_type": "markdown",
      "source": [
        "For year 2032, we use similar snippet as above"
      ],
      "metadata": {
        "id": "kmESHGgN0EVB"
      }
    },
    {
      "cell_type": "code",
      "source": [
        "model.predict([[2032]])"
      ],
      "metadata": {
        "colab": {
          "base_uri": "https://localhost:8080/"
        },
        "id": "98hmSyUs0JLu",
        "outputId": "8ffcbdac-e117-4ee8-aa47-c88bc694e100"
      },
      "execution_count": null,
      "outputs": [
        {
          "output_type": "stream",
          "name": "stderr",
          "text": [
            "/usr/local/lib/python3.7/dist-packages/sklearn/base.py:451: UserWarning: X does not have valid feature names, but LinearRegression was fitted with feature names\n",
            "  \"X does not have valid feature names, but\"\n"
          ]
        },
        {
          "output_type": "execute_result",
          "data": {
            "text/plain": [
              "array([41529.20267108])"
            ]
          },
          "metadata": {},
          "execution_count": 26
        }
      ]
    },
    {
      "cell_type": "markdown",
      "source": [
        "For proof, we can use linear equation to validate the package function for both 2022 and 2032 respectively"
      ],
      "metadata": {
        "id": "owYH6p7w23M7"
      }
    },
    {
      "cell_type": "code",
      "source": [
        "y_2022 = model.coef_[0] * 2022 + model.intercept_\n",
        "y_2022\n"
      ],
      "metadata": {
        "colab": {
          "base_uri": "https://localhost:8080/"
        },
        "id": "AdgWoF8E3BWd",
        "outputId": "d5d171ab-ca18-42ee-ae95-42a1ab2fc2d0"
      },
      "execution_count": null,
      "outputs": [
        {
          "output_type": "execute_result",
          "data": {
            "text/plain": [
              "34091.3766364418"
            ]
          },
          "metadata": {},
          "execution_count": 29
        }
      ]
    },
    {
      "cell_type": "code",
      "source": [
        "y_2032 = model.coef_[0] * 2032 + model.intercept_\n",
        "y_2032"
      ],
      "metadata": {
        "colab": {
          "base_uri": "https://localhost:8080/"
        },
        "id": "XM8H3oIM3kTx",
        "outputId": "57ea4324-e423-4f0e-cb74-973438d660f5"
      },
      "execution_count": null,
      "outputs": [
        {
          "output_type": "execute_result",
          "data": {
            "text/plain": [
              "41529.202671078965"
            ]
          },
          "metadata": {},
          "execution_count": 30
        }
      ]
    }
  ]
}